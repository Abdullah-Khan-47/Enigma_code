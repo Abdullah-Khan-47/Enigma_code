{
  "metadata": {
    "kernelspec": {
      "name": "python",
      "display_name": "Python (Pyodide)",
      "language": "python"
    },
    "language_info": {
      "codemirror_mode": {
        "name": "python",
        "version": 3
      },
      "file_extension": ".py",
      "mimetype": "text/x-python",
      "name": "python",
      "nbconvert_exporter": "python",
      "pygments_lexer": "ipython3",
      "version": "3.8"
    }
  },
  "nbformat_minor": 5,
  "nbformat": 4,
  "cells": [
    {
      "id": "219e0490-f53e-49fe-9c99-7fe7c0a54913",
      "cell_type": "markdown",
      "source": "# Enigma Encryption\nThe following code could be used to encrypt and decrypt any text on the base setting of the Enigma Machine.\nOnce encrypted, you will need to have access to the internal states of the dial dictionaries and reflector pairings. In this case, I have made sure that both the encryptor and decryptor have the same, however, this could be changed or randomized.",
      "metadata": {}
    },
    {
      "id": "15778eb9-6f72-4231-9698-7df9f678ca34",
      "cell_type": "code",
      "source": "# Importing functions\nfrom text_encoder import text_rotary_encryption\nfrom text_decoder import text_rotary_decryption",
      "metadata": {
        "trusted": true
      },
      "outputs": [],
      "execution_count": null
    },
    {
      "id": "25e9420f-7679-4453-9a11-c992974eabfe",
      "cell_type": "code",
      "source": "# Add any text below, no spaces or non-alphabet character were used in the enigma. for space, often x was used.\ntext = 'HelloooxHowxArexYou'\nencrypted_text = text_rotary_encryption(text)\nprint(f'Original text: {text}')\nprint(f'The text after encryption: {encrypted_text}')",
      "metadata": {
        "trusted": true
      },
      "outputs": [],
      "execution_count": null
    },
    {
      "id": "fa8a6e79-de8c-4c0f-ada4-7b7d4279f4ab",
      "cell_type": "code",
      "source": "original_text = text_rotary_decryption(encrypted_text)\nprint(f'The encrypted text after decryption: {original_text}')",
      "metadata": {
        "trusted": true
      },
      "outputs": [],
      "execution_count": null
    }
  ]
}